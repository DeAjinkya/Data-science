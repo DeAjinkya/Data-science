{
 "cells": [
  {
   "cell_type": "code",
   "execution_count": 1,
   "id": "0623a42f-6319-4222-9006-232031ed893e",
   "metadata": {},
   "outputs": [],
   "source": [
    "# multidimenional indexing and axis in numpy\n",
    "import numpy as np"
   ]
  },
  {
   "cell_type": "code",
   "execution_count": 2,
   "id": "9aeba2b9-f33a-4cd0-9305-603e36a011d2",
   "metadata": {},
   "outputs": [
    {
     "name": "stdout",
     "output_type": "stream",
     "text": [
      "[[1 2 3]\n",
      " [4 5 6]\n",
      " [7 8 9]]\n"
     ]
    }
   ],
   "source": [
    "arr = np.array([[1,2,3],[4,5,6],[7,8,9]])\n",
    "print(arr)"
   ]
  },
  {
   "cell_type": "code",
   "execution_count": 3,
   "id": "e83cc017-2e6b-48d9-aa1e-81b4889e3f74",
   "metadata": {},
   "outputs": [
    {
     "data": {
      "text/plain": [
       "array([1, 2, 3])"
      ]
     },
     "execution_count": 3,
     "metadata": {},
     "output_type": "execute_result"
    }
   ],
   "source": [
    "arr[0]"
   ]
  },
  {
   "cell_type": "markdown",
   "id": "9c252deb-32be-4666-8510-4a3d14e617d9",
   "metadata": {},
   "source": [
    "[[1 2 3]\n",
    " [4 5 6]\n",
    " [7 8 9]]\n",
    "  | | |\n",
    "  12| 18\n",
    "    15 "
   ]
  },
  {
   "cell_type": "code",
   "execution_count": 5,
   "id": "5f1da82d-1bd4-4214-96df-fc999e441792",
   "metadata": {},
   "outputs": [
    {
     "data": {
      "text/plain": [
       "array([12, 15, 18])"
      ]
     },
     "execution_count": 5,
     "metadata": {},
     "output_type": "execute_result"
    }
   ],
   "source": [
    "np.sum(arr,axis=0) # sum along rows (down each column)\n",
    "# column wise sum"
   ]
  },
  {
   "cell_type": "markdown",
   "id": "cd8989d1-911d-4e89-a446-89a9ec9dd16d",
   "metadata": {},
   "source": [
    "[[1 2 3] -> 6\n",
    " [4 5 6]-> 15\n",
    " [7 8 9]] -> 24 "
   ]
  },
  {
   "cell_type": "code",
   "execution_count": 6,
   "id": "ce1c09af-2dd5-4fd9-ae22-bbc255daa842",
   "metadata": {},
   "outputs": [
    {
     "data": {
      "text/plain": [
       "array([ 6, 15, 24])"
      ]
     },
     "execution_count": 6,
     "metadata": {},
     "output_type": "execute_result"
    }
   ],
   "source": [
    "np.sum(arr, axis=1) # sum along column (across each row)\n",
    "# row wise sum"
   ]
  },
  {
   "cell_type": "code",
   "execution_count": 7,
   "id": "8916e9d6-0163-440e-9e65-a22921e59b0a",
   "metadata": {},
   "outputs": [
    {
     "data": {
      "text/plain": [
       "2"
      ]
     },
     "execution_count": 7,
     "metadata": {},
     "output_type": "execute_result"
    }
   ],
   "source": [
    "arr[0,1]"
   ]
  },
  {
   "cell_type": "code",
   "execution_count": 9,
   "id": "39df3fdc-92f7-4f21-8e9a-170ec9d82935",
   "metadata": {},
   "outputs": [
    {
     "data": {
      "text/plain": [
       "array([[2, 3],\n",
       "       [5, 6]])"
      ]
     },
     "execution_count": 9,
     "metadata": {},
     "output_type": "execute_result"
    }
   ],
   "source": [
    "arr[0:2,1:3]\n",
    "# 0:2 -> rows\n",
    "# 1:3 -> 1 index and 2 index element"
   ]
  },
  {
   "cell_type": "code",
   "execution_count": 15,
   "id": "e2757770-9e3f-4c7a-8eaf-7251147528e6",
   "metadata": {},
   "outputs": [
    {
     "data": {
      "text/plain": [
       "array([[[ 1,  2,  3],\n",
       "        [ 4,  5,  6]],\n",
       "\n",
       "       [[ 7,  8,  9],\n",
       "        [10, 11, 12]]])"
      ]
     },
     "execution_count": 15,
     "metadata": {},
     "output_type": "execute_result"
    }
   ],
   "source": [
    "# 3d array\n",
    "arr3d = np.array([\n",
    "    [[1,2,3],\n",
    "     [4,5,6]],\n",
    "    [[7,8,9],\n",
    "     [10,11,12]]\n",
    "])\n",
    "arr3d"
   ]
  },
  {
   "cell_type": "code",
   "execution_count": 16,
   "id": "2ce564c3-0c4a-4651-9d97-569a5d4235f0",
   "metadata": {},
   "outputs": [
    {
     "data": {
      "text/plain": [
       "(2, 2, 3)"
      ]
     },
     "execution_count": 16,
     "metadata": {},
     "output_type": "execute_result"
    }
   ],
   "source": [
    "arr3d.shape # (depth , row, column)"
   ]
  },
  {
   "cell_type": "code",
   "execution_count": 17,
   "id": "8aa059ed-4d0d-4611-8ca6-9079dae12bf0",
   "metadata": {},
   "outputs": [
    {
     "data": {
      "text/plain": [
       "6"
      ]
     },
     "execution_count": 17,
     "metadata": {},
     "output_type": "execute_result"
    }
   ],
   "source": [
    "# first sheet , second row, third column\n",
    "#accssing elements in 3d\n",
    "arr3d[0,1,2]"
   ]
  },
  {
   "cell_type": "code",
   "execution_count": 18,
   "id": "b9e76bfe-909d-48a5-850c-4414f54748d7",
   "metadata": {},
   "outputs": [
    {
     "data": {
      "text/plain": [
       "array([[1, 2, 3],\n",
       "       [7, 8, 9]])"
      ]
     },
     "execution_count": 18,
     "metadata": {},
     "output_type": "execute_result"
    }
   ],
   "source": [
    "# get the first row from both sheets\n",
    "arr3d[:,0,:]"
   ]
  },
  {
   "cell_type": "code",
   "execution_count": 19,
   "id": "793c084b-c9c3-47fc-89d3-ae444618b25a",
   "metadata": {},
   "outputs": [
    {
     "data": {
      "text/plain": [
       "array([1, 2, 3])"
      ]
     },
     "execution_count": 19,
     "metadata": {},
     "output_type": "execute_result"
    }
   ],
   "source": [
    "arr3d[0,0,:]"
   ]
  },
  {
   "cell_type": "code",
   "execution_count": 21,
   "id": "da90457d-fc5d-45b6-803c-587642c5668b",
   "metadata": {},
   "outputs": [
    {
     "data": {
      "text/plain": [
       "array([1, 4, 7])"
      ]
     },
     "execution_count": 21,
     "metadata": {},
     "output_type": "execute_result"
    }
   ],
   "source": [
    "# get all rows of the first column\n",
    "first_col = arr[:,0]\n",
    "first_col"
   ]
  },
  {
   "cell_type": "code",
   "execution_count": 22,
   "id": "863b78fd-8163-4ea9-af9d-6003408cd1ee",
   "metadata": {},
   "outputs": [
    {
     "data": {
      "text/plain": [
       "array([[1, 2, 3],\n",
       "       [7, 8, 9]])"
      ]
     },
     "execution_count": 22,
     "metadata": {},
     "output_type": "execute_result"
    }
   ],
   "source": [
    "# get the first row from each \"sheet\" in a 3d array\n",
    "first_row = arr3d[:,0,:]\n",
    "first_row"
   ]
  },
  {
   "cell_type": "code",
   "execution_count": 23,
   "id": "3db0b1c5-66c3-4bff-9513-b50a4135beb4",
   "metadata": {},
   "outputs": [
    {
     "data": {
      "text/plain": [
       "array([[1, 0, 3],\n",
       "       [4, 0, 6],\n",
       "       [7, 0, 9]])"
      ]
     },
     "execution_count": 23,
     "metadata": {},
     "output_type": "execute_result"
    }
   ],
   "source": [
    "# changing data along the axis\n",
    "# replace all elements in column 1 with 0\n",
    "arr[:,1] = 0\n",
    "arr"
   ]
  },
  {
   "cell_type": "code",
   "execution_count": null,
   "id": "18751c5c-fc29-4cf4-a51c-deec5d58d487",
   "metadata": {},
   "outputs": [],
   "source": []
  }
 ],
 "metadata": {
  "kernelspec": {
   "display_name": "Python 3 (ipykernel)",
   "language": "python",
   "name": "python3"
  },
  "language_info": {
   "codemirror_mode": {
    "name": "ipython",
    "version": 3
   },
   "file_extension": ".py",
   "mimetype": "text/x-python",
   "name": "python",
   "nbconvert_exporter": "python",
   "pygments_lexer": "ipython3",
   "version": "3.10.9"
  }
 },
 "nbformat": 4,
 "nbformat_minor": 5
}
