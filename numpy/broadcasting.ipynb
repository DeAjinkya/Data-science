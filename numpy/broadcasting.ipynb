{
 "cells": [
  {
   "cell_type": "raw",
   "id": "25ca00df-7120-4f41-ae6e-34aab31b9684",
   "metadata": {},
   "source": [
    "# broadcasting in numpy"
   ]
  },
  {
   "cell_type": "code",
   "execution_count": 2,
   "id": "e2e32e16-2b15-4e10-b811-c92b3df1442e",
   "metadata": {},
   "outputs": [],
   "source": [
    "import numpy as np"
   ]
  },
  {
   "cell_type": "code",
   "execution_count": 4,
   "id": "c0f32d36-d231-4049-b0cb-95dc5761e646",
   "metadata": {},
   "outputs": [
    {
     "name": "stdout",
     "output_type": "stream",
     "text": [
      "[1, 4, 9, 16, 25]\n"
     ]
    }
   ],
   "source": [
    "arr = np.array([1,2,3,4,5])\n",
    "result = []\n",
    "\n",
    "#using loop to square each element (slow)\n",
    "for num in arr:\n",
    "    result.append(num ** 2)\n",
    "\n",
    "print(result)"
   ]
  },
  {
   "cell_type": "code",
   "execution_count": 5,
   "id": "84c7268f-fbfd-48ce-9419-00a9dd0f3cac",
   "metadata": {},
   "outputs": [
    {
     "name": "stdout",
     "output_type": "stream",
     "text": [
      "[ 1  4  9 16 25]\n"
     ]
    }
   ],
   "source": [
    "# fixing the loop problem\n",
    "arr1 = np.array([1,2,3,4,5])\n",
    "result = arr ** 2 # vectorized operation\n",
    "print(result) \n"
   ]
  },
  {
   "cell_type": "markdown",
   "id": "0d726173-82fe-4fd8-a442-831c4a51a055",
   "metadata": {},
   "source": [
    "Broadcasting: Scaling Arrays Without Extra Memory\n",
    "\n",
    "Broadcasting is a powerful feature of NumPy that allows you to perform operations on arrays of different shapes without creating copies. It “stretches” smaller arrays across larger arrays in a memory-efficient way, avoiding the overhead of creating multiple copies of data."
   ]
  },
  {
   "cell_type": "code",
   "execution_count": 7,
   "id": "33d2f30f-c0af-4515-8070-49be1737d123",
   "metadata": {},
   "outputs": [
    {
     "data": {
      "text/plain": [
       "array([11, 14, 19, 26, 35])"
      ]
     },
     "execution_count": 7,
     "metadata": {},
     "output_type": "execute_result"
    }
   ],
   "source": [
    "result + 10 #Broadcasting: 10 is added to all elements"
   ]
  },
  {
   "cell_type": "code",
   "execution_count": 10,
   "id": "9594633c-cbb5-45df-a35d-dce1ea841c21",
   "metadata": {},
   "outputs": [
    {
     "data": {
      "text/plain": [
       "array([ 2,  4,  6,  8, 10])"
      ]
     },
     "execution_count": 10,
     "metadata": {},
     "output_type": "execute_result"
    }
   ],
   "source": [
    "# with two array\n",
    "result1 = arr + arr1 # element wise addition\n",
    "result1"
   ]
  },
  {
   "cell_type": "code",
   "execution_count": 12,
   "id": "a8c751f5-0b32-4c6b-a948-034c68900e21",
   "metadata": {},
   "outputs": [
    {
     "data": {
      "text/plain": [
       "array([[2, 4, 6],\n",
       "       [5, 7, 9]])"
      ]
     },
     "execution_count": 12,
     "metadata": {},
     "output_type": "execute_result"
    }
   ],
   "source": [
    "# with 2d and 1d \n",
    "a = np.array([[1,2,3],[4,5,6]])\n",
    "b = np.array([1,2,3])\n",
    "\n",
    "result2 = a + b # broadasting arr2 across arr1\n",
    "\n",
    "result2 # 1,2,3 is add in both sheets"
   ]
  },
  {
   "cell_type": "raw",
   "id": "f3266b95-0e16-4e44-9c17-299c0c781d36",
   "metadata": {},
   "source": [
    "Hands-on: Applying Broadcasting to Real-World Scenarios\n",
    "\n",
    "Let’s apply broadcasting to a real-world scenario: scaling data in machine learning.\n",
    "\n",
    "Example: Normalizing Data Using Broadcasting\n",
    "\n",
    "Imagine you have a dataset where each row represents a sample and each column represents a feature. You can normalize the data by subtracting the mean of each column and dividing by the standard deviation."
   ]
  },
  {
   "cell_type": "code",
   "execution_count": 14,
   "id": "96a9fd85-bafc-4f20-9fbc-ccb718b2f16c",
   "metadata": {},
   "outputs": [
    {
     "name": "stdout",
     "output_type": "stream",
     "text": [
      "[[-1.41421356 -1.41421356 -1.41421356]\n",
      " [-0.70710678 -0.70710678 -0.70710678]\n",
      " [ 0.          0.          0.        ]\n",
      " [ 0.70710678  0.70710678  0.70710678]\n",
      " [ 1.41421356  1.41421356  1.41421356]]\n"
     ]
    }
   ],
   "source": [
    "# simulating a data set (5 samples, 3 features)\n",
    "data = np.array([[10,20,30],\n",
    "                 [15,25,35],\n",
    "                 [20,30,40],\n",
    "                 [25,35,45],\n",
    "                 [30,40,50]])\n",
    "\n",
    "#calculating mean and standard devaiation for each feature (column)\n",
    "mean = data.mean(axis=0)\n",
    "std = data.std(axis=0)\n",
    "\n",
    "#normalizing the data using broadcasting\n",
    "normalized_data = (data - mean) / std\n",
    "\n",
    "print(normalized_data)\n"
   ]
  },
  {
   "cell_type": "code",
   "execution_count": null,
   "id": "024d0b51-0dd0-4356-80a0-cbcb315f1688",
   "metadata": {},
   "outputs": [],
   "source": []
  }
 ],
 "metadata": {
  "kernelspec": {
   "display_name": "Python 3 (ipykernel)",
   "language": "python",
   "name": "python3"
  },
  "language_info": {
   "codemirror_mode": {
    "name": "ipython",
    "version": 3
   },
   "file_extension": ".py",
   "mimetype": "text/x-python",
   "name": "python",
   "nbconvert_exporter": "python",
   "pygments_lexer": "ipython3",
   "version": "3.10.9"
  }
 },
 "nbformat": 4,
 "nbformat_minor": 5
}
