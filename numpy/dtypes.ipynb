{
 "cells": [
  {
   "cell_type": "raw",
   "id": "7d0a5317-9793-4e2b-978d-5b59c33baafe",
   "metadata": {},
   "source": [
    "# data types in numpy (dtype)\n",
    "\n",
    "Common Data Types in NumPy:\n",
    "\n",
    "1.) int32, int64: Integer types with different bit sizes.\n",
    "2.) float32, float64: Floating-point types with different precision.\n",
    "3.) bool: Boolean data type.\n",
    "4.) complex64, complex128: Complex number types.\n",
    "5.) object: For storing objects (e.g., Python objects, strings).\n"
   ]
  },
  {
   "cell_type": "code",
   "execution_count": 1,
   "id": "3d049ca4-186c-41dd-a654-f0eef23fd5bd",
   "metadata": {},
   "outputs": [],
   "source": [
    "import numpy as np"
   ]
  },
  {
   "cell_type": "code",
   "execution_count": 4,
   "id": "0c8d44c0-5c1d-469e-9adc-338240bc1c05",
   "metadata": {},
   "outputs": [
    {
     "name": "stdout",
     "output_type": "stream",
     "text": [
      "int64\n"
     ]
    }
   ],
   "source": [
    "arr = np.array([1,2,3,4])\n",
    "print(arr.dtype)"
   ]
  },
  {
   "cell_type": "code",
   "execution_count": 5,
   "id": "6e3a13be-6436-44a2-bb40-219e2ae29e4d",
   "metadata": {},
   "outputs": [
    {
     "data": {
      "text/plain": [
       "array([1., 2., 3., 4.])"
      ]
     },
     "execution_count": 5,
     "metadata": {},
     "output_type": "execute_result"
    }
   ],
   "source": [
    "# to change the data type\n",
    "arr.astype(\"float64\")"
   ]
  },
  {
   "cell_type": "code",
   "execution_count": 6,
   "id": "f3c7cb89-6ea3-4c55-86fc-c012884156da",
   "metadata": {},
   "outputs": [
    {
     "data": {
      "text/plain": [
       "array([ 11.,  12., 122.], dtype=float32)"
      ]
     },
     "execution_count": 6,
     "metadata": {},
     "output_type": "execute_result"
    }
   ],
   "source": [
    "arr2 = np.array([11,12,122] , dtype = \"float32\")\n",
    "arr2"
   ]
  },
  {
   "cell_type": "code",
   "execution_count": 10,
   "id": "8edc874b-c51b-4f79-bf5d-139f00c6772e",
   "metadata": {},
   "outputs": [],
   "source": [
    "#downcasting to save memory\n",
    "arr_large = np.array([1000000,2000000,3000000], dtype = np.int64)\n",
    "\n",
    "# Downcasting to a smaller dtype\n",
    "arr_small = arr_large.astype(np.int32)\n"
   ]
  },
  {
   "cell_type": "code",
   "execution_count": 11,
   "id": "feb12379-9409-4a53-9efa-cad3bfcb9575",
   "metadata": {},
   "outputs": [
    {
     "name": "stdout",
     "output_type": "stream",
     "text": [
      "[1000000 2000000 3000000]\n"
     ]
    }
   ],
   "source": [
    "print(arr_small)"
   ]
  },
  {
   "cell_type": "code",
   "execution_count": 12,
   "id": "ea57acba-6ad4-43ee-ba00-bcd71a8cab7d",
   "metadata": {},
   "outputs": [
    {
     "name": "stdout",
     "output_type": "stream",
     "text": [
      "int32\n"
     ]
    }
   ],
   "source": [
    "print(arr_small.dtype)"
   ]
  },
  {
   "cell_type": "code",
   "execution_count": 20,
   "id": "ea5d0bf3-87cc-4b17-92e3-c6f7b7292a62",
   "metadata": {},
   "outputs": [],
   "source": [
    "#memory usage\n",
    "arr_int64 = np.array([2,33,44], dtype = np.int64)\n",
    "arr_int32 = np.array([11,22,33], dtype = np.int32)"
   ]
  },
  {
   "cell_type": "code",
   "execution_count": 21,
   "id": "3342fcca-81a5-4457-a563-54168702aec5",
   "metadata": {},
   "outputs": [
    {
     "data": {
      "text/plain": [
       "24"
      ]
     },
     "execution_count": 21,
     "metadata": {},
     "output_type": "execute_result"
    }
   ],
   "source": [
    "arr_int64.nbytes # Output: 24 bytes (3 elements * 8 bytes each)"
   ]
  },
  {
   "cell_type": "code",
   "execution_count": 22,
   "id": "e0f47b35-e91f-4e09-871a-fbb83a8d917e",
   "metadata": {},
   "outputs": [
    {
     "data": {
      "text/plain": [
       "12"
      ]
     },
     "execution_count": 22,
     "metadata": {},
     "output_type": "execute_result"
    }
   ],
   "source": [
    "arr_int32.nbytes # Output: 12 bytes (3 elements * 4 bytes each)"
   ]
  },
  {
   "cell_type": "raw",
   "id": "423e9641-8287-41c8-8ed3-1191aaa58b95",
   "metadata": {},
   "source": [
    "String Data Type in NumPy\n",
    "\n",
    "Although NumPy arrays typically store numerical data, you can also store strings by using the dtype='str' or dtype='U' (Unicode string) format. However, working with strings in NumPy is less efficient than using lists or Python's built-in string types."
   ]
  },
  {
   "cell_type": "code",
   "execution_count": 25,
   "id": "e7ee3abd-5bc6-4e5b-aa43-45356c84e08c",
   "metadata": {},
   "outputs": [
    {
     "data": {
      "text/plain": [
       "array(['apple', 'banana', 'cherry'], dtype='<U10')"
      ]
     },
     "execution_count": 25,
     "metadata": {},
     "output_type": "execute_result"
    }
   ],
   "source": [
    "arr3 = np.array(['apple','banana','cherry'], dtype = 'U10') # unicode string array\n",
    "arr3"
   ]
  },
  {
   "cell_type": "code",
   "execution_count": 26,
   "id": "589275d1-5086-465c-8f21-4fb5833883c0",
   "metadata": {},
   "outputs": [
    {
     "data": {
      "text/plain": [
       "array([1.+2.j, 3.+4.j, 5.+6.j])"
      ]
     },
     "execution_count": 26,
     "metadata": {},
     "output_type": "execute_result"
    }
   ],
   "source": [
    "# complex number\n",
    "arr4 = np.array([1+2j,3+4j,5+6j], dtype = 'complex128')\n",
    "arr4"
   ]
  },
  {
   "cell_type": "raw",
   "id": "2a37a2c8-b0b2-420c-b384-13dc5d7edf9e",
   "metadata": {},
   "source": [
    "Object Data Type\n",
    "\n",
    "If you need to store mixed or complex data types (e.g., Python objects), you can use dtype='object'. However, this type sacrifices performance, so it should only be used when absolutely necessary."
   ]
  },
  {
   "cell_type": "code",
   "execution_count": 28,
   "id": "7bb11a3f-df39-4c5c-bef4-56e72be7c2e0",
   "metadata": {},
   "outputs": [],
   "source": [
    "arr5 = np.array([{'a':1},[1,2,3]], dtype = 'object')"
   ]
  },
  {
   "cell_type": "code",
   "execution_count": 29,
   "id": "794582a5-7729-4321-8eb2-e8cf2d623381",
   "metadata": {},
   "outputs": [
    {
     "data": {
      "text/plain": [
       "array([{'a': 1}, list([1, 2, 3])], dtype=object)"
      ]
     },
     "execution_count": 29,
     "metadata": {},
     "output_type": "execute_result"
    }
   ],
   "source": [
    "arr5"
   ]
  },
  {
   "cell_type": "code",
   "execution_count": null,
   "id": "135ae5e7-3acf-4e73-b3c6-c6a78379b981",
   "metadata": {},
   "outputs": [],
   "source": []
  }
 ],
 "metadata": {
  "kernelspec": {
   "display_name": "Python 3 (ipykernel)",
   "language": "python",
   "name": "python3"
  },
  "language_info": {
   "codemirror_mode": {
    "name": "ipython",
    "version": 3
   },
   "file_extension": ".py",
   "mimetype": "text/x-python",
   "name": "python",
   "nbconvert_exporter": "python",
   "pygments_lexer": "ipython3",
   "version": "3.10.9"
  }
 },
 "nbformat": 4,
 "nbformat_minor": 5
}
