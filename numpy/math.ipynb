{
 "cells": [
  {
   "cell_type": "raw",
   "id": "02efcc9e-7c88-49eb-a7a8-5cb1f0ad8128",
   "metadata": {},
   "source": [
    "Built in Mathematical Functions in NumPy\n",
    "\n",
    "Here are some common NumPy methods that are frequently used for statistical and mathematical operations:"
   ]
  },
  {
   "cell_type": "code",
   "execution_count": 1,
   "id": "4cb1eb77-68e7-451d-9354-d298e0daded1",
   "metadata": {},
   "outputs": [],
   "source": [
    "import numpy as np"
   ]
  },
  {
   "cell_type": "code",
   "execution_count": 18,
   "id": "347a6aa4-083e-4933-b52b-4bc2c71dfee6",
   "metadata": {},
   "outputs": [],
   "source": [
    "arr = np.array([1,2,3,4,5,6,2,3,4,5,])"
   ]
  },
  {
   "cell_type": "code",
   "execution_count": 19,
   "id": "623e941d-01f1-43fd-b491-4b4f23b7262e",
   "metadata": {},
   "outputs": [
    {
     "data": {
      "text/plain": [
       "3.5"
      ]
     },
     "execution_count": 19,
     "metadata": {},
     "output_type": "execute_result"
    }
   ],
   "source": [
    "np.mean(arr) #np.mean() – Compute the mean (average) of an array."
   ]
  },
  {
   "cell_type": "code",
   "execution_count": 20,
   "id": "34aea562-01da-4600-b601-9af6a1962e11",
   "metadata": {},
   "outputs": [
    {
     "data": {
      "text/plain": [
       "1"
      ]
     },
     "execution_count": 20,
     "metadata": {},
     "output_type": "execute_result"
    }
   ],
   "source": [
    "np.min(arr) #np.min() – Compute the minimum value of an array."
   ]
  },
  {
   "cell_type": "code",
   "execution_count": 21,
   "id": "6e8f308e-9563-459a-b89a-ce59a94765ff",
   "metadata": {},
   "outputs": [
    {
     "data": {
      "text/plain": [
       "6"
      ]
     },
     "execution_count": 21,
     "metadata": {},
     "output_type": "execute_result"
    }
   ],
   "source": [
    "np.max(arr) #np.max() – Compute the maximum value of an array."
   ]
  },
  {
   "cell_type": "code",
   "execution_count": 22,
   "id": "461f4ef1-6289-42b7-a806-327c363f898a",
   "metadata": {},
   "outputs": [
    {
     "data": {
      "text/plain": [
       "1.5"
      ]
     },
     "execution_count": 22,
     "metadata": {},
     "output_type": "execute_result"
    }
   ],
   "source": [
    "np.std(arr) #np.std() – Compute the standard deviation of an array."
   ]
  },
  {
   "cell_type": "code",
   "execution_count": 23,
   "id": "05752a46-3aea-4121-a979-67b331694bad",
   "metadata": {},
   "outputs": [
    {
     "data": {
      "text/plain": [
       "2.25"
      ]
     },
     "execution_count": 23,
     "metadata": {},
     "output_type": "execute_result"
    }
   ],
   "source": [
    "np.var(arr) #np.var() – Compute the variance of an array."
   ]
  },
  {
   "cell_type": "code",
   "execution_count": 24,
   "id": "b9943ef7-4ef3-4f8f-9528-794c156bd826",
   "metadata": {},
   "outputs": [
    {
     "data": {
      "text/plain": [
       "35"
      ]
     },
     "execution_count": 24,
     "metadata": {},
     "output_type": "execute_result"
    }
   ],
   "source": [
    "np.sum(arr) #np.sum() – Compute the sum of all elements in an array."
   ]
  },
  {
   "cell_type": "code",
   "execution_count": 25,
   "id": "02df6797-d49b-4846-94d7-2a2a6eb90ee6",
   "metadata": {},
   "outputs": [
    {
     "data": {
      "text/plain": [
       "86400"
      ]
     },
     "execution_count": 25,
     "metadata": {},
     "output_type": "execute_result"
    }
   ],
   "source": [
    "np.prod(arr) #np.prod() – Compute the product of all elements in an array."
   ]
  },
  {
   "cell_type": "code",
   "execution_count": 26,
   "id": "971fb49b-039d-4ffe-92d2-c37b44300fe3",
   "metadata": {},
   "outputs": [
    {
     "data": {
      "text/plain": [
       "3.5"
      ]
     },
     "execution_count": 26,
     "metadata": {},
     "output_type": "execute_result"
    }
   ],
   "source": [
    "np.percentile(arr,50) #np.percentile() – Compute the percentile of an array.\n",
    "#For the 50th percentile (median)"
   ]
  },
  {
   "cell_type": "code",
   "execution_count": 27,
   "id": "23826e32-9096-4178-8fec-ad7ed8c08003",
   "metadata": {},
   "outputs": [
    {
     "data": {
      "text/plain": [
       "0"
      ]
     },
     "execution_count": 27,
     "metadata": {},
     "output_type": "execute_result"
    }
   ],
   "source": [
    "np.argmin(arr) #np.argmin() – Return the index of the minimum value in an array."
   ]
  },
  {
   "cell_type": "code",
   "execution_count": 28,
   "id": "7d27f907-9f3c-40f7-9f46-5dcb72db7fb4",
   "metadata": {},
   "outputs": [
    {
     "data": {
      "text/plain": [
       "5"
      ]
     },
     "execution_count": 28,
     "metadata": {},
     "output_type": "execute_result"
    }
   ],
   "source": [
    "np.argmax(arr) #np.argmax() – Return the index of the maximum value in an array."
   ]
  },
  {
   "cell_type": "code",
   "execution_count": 29,
   "id": "cd596096-0393-4d9b-82ad-a13ca9f143be",
   "metadata": {},
   "outputs": [
    {
     "data": {
      "text/plain": [
       "array([1, 2, 3, 4, 5, 6])"
      ]
     },
     "execution_count": 29,
     "metadata": {},
     "output_type": "execute_result"
    }
   ],
   "source": [
    "np.unique(arr) #np.unique() – Find the unique elements of an array."
   ]
  },
  {
   "cell_type": "code",
   "execution_count": 30,
   "id": "68e6235e-4a0e-4c87-9e33-11cfd5a8612e",
   "metadata": {},
   "outputs": [
    {
     "data": {
      "text/plain": [
       "array([ 1,  3,  6, 10, 15, 21, 23, 26, 30, 35])"
      ]
     },
     "execution_count": 30,
     "metadata": {},
     "output_type": "execute_result"
    }
   ],
   "source": [
    "np.cumsum(arr) #np.cumsum() – Compute the cumulative sum of an array."
   ]
  },
  {
   "cell_type": "code",
   "execution_count": 31,
   "id": "8b1bf892-e8d7-4587-817b-d4d5a6d1255a",
   "metadata": {},
   "outputs": [
    {
     "data": {
      "text/plain": [
       "3.5"
      ]
     },
     "execution_count": 31,
     "metadata": {},
     "output_type": "execute_result"
    }
   ],
   "source": [
    "np.median(arr) #np.median() – Compute the median of an array."
   ]
  },
  {
   "cell_type": "code",
   "execution_count": 32,
   "id": "36062162-dc99-4a95-ba0c-1de3283d9695",
   "metadata": {},
   "outputs": [],
   "source": [
    "arr1 = np.array([1,2,34,5,6])"
   ]
  },
  {
   "cell_type": "markdown",
   "id": "417fd8c4-aabb-43e3-881f-47ab10951bbe",
   "metadata": {},
   "source": [
    "np.corrcoef() – Compute the correlation coefficient matrix of two arrays.\n",
    "\n",
    "np.corrcoef(arr1, arr2)"
   ]
  },
  {
   "cell_type": "code",
   "execution_count": 36,
   "id": "1b630b8e-accd-4a83-ac99-a06d3013cc63",
   "metadata": {},
   "outputs": [
    {
     "data": {
      "text/plain": [
       "array([ 1,  1,  1,  1,  1, -4,  1,  1,  1])"
      ]
     },
     "execution_count": 36,
     "metadata": {},
     "output_type": "execute_result"
    }
   ],
   "source": [
    "#np.diff() – Compute the n-th differences of an array.\n",
    "\n",
    "np.diff(arr)"
   ]
  },
  {
   "cell_type": "code",
   "execution_count": 37,
   "id": "70aaa210-e70a-4d62-a7c8-0b04947a38d6",
   "metadata": {},
   "outputs": [
    {
     "data": {
      "text/plain": [
       "array([ 0. ,  2.5,  5. ,  7.5, 10. ])"
      ]
     },
     "execution_count": 37,
     "metadata": {},
     "output_type": "execute_result"
    }
   ],
   "source": [
    "#np.linspace() – Create an array with evenly spaced numbers over a specified interval.\n",
    "\n",
    "np.linspace(0, 10, 5)  # 5 numbers from 0 to 10"
   ]
  },
  {
   "cell_type": "code",
   "execution_count": 38,
   "id": "ae0421a2-2b1e-44ee-a52b-2a9485b882d2",
   "metadata": {},
   "outputs": [
    {
     "data": {
      "text/plain": [
       "array([0.        , 0.69314718, 1.09861229, 1.38629436, 1.60943791,\n",
       "       1.79175947, 0.69314718, 1.09861229, 1.38629436, 1.60943791])"
      ]
     },
     "execution_count": 38,
     "metadata": {},
     "output_type": "execute_result"
    }
   ],
   "source": [
    "#np.log() – Compute the natural logarithm of an array.\n",
    "\n",
    "np.log(arr)"
   ]
  },
  {
   "cell_type": "code",
   "execution_count": 39,
   "id": "d44abf61-d8e3-4d3c-9ed1-7145f69c5ac7",
   "metadata": {},
   "outputs": [
    {
     "data": {
      "text/plain": [
       "array([  2.71828183,   7.3890561 ,  20.08553692,  54.59815003,\n",
       "       148.4131591 , 403.42879349,   7.3890561 ,  20.08553692,\n",
       "        54.59815003, 148.4131591 ])"
      ]
     },
     "execution_count": 39,
     "metadata": {},
     "output_type": "execute_result"
    }
   ],
   "source": [
    "#np.exp() – Compute the exponential of an array.\n",
    "\n",
    "np.exp(arr)"
   ]
  },
  {
   "cell_type": "code",
   "execution_count": null,
   "id": "1511cbe0-848e-4a5d-b03f-9e4d284550ca",
   "metadata": {},
   "outputs": [],
   "source": []
  }
 ],
 "metadata": {
  "kernelspec": {
   "display_name": "Python 3 (ipykernel)",
   "language": "python",
   "name": "python3"
  },
  "language_info": {
   "codemirror_mode": {
    "name": "ipython",
    "version": 3
   },
   "file_extension": ".py",
   "mimetype": "text/x-python",
   "name": "python",
   "nbconvert_exporter": "python",
   "pygments_lexer": "ipython3",
   "version": "3.10.9"
  }
 },
 "nbformat": 4,
 "nbformat_minor": 5
}
