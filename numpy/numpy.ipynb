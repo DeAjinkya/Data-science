{
 "cells": [
  {
   "cell_type": "code",
   "execution_count": 1,
   "id": "20960a48-40db-42ec-9195-20393f24cf39",
   "metadata": {},
   "outputs": [],
   "source": [
    "import numpy as np\n",
    "import time"
   ]
  },
  {
   "cell_type": "code",
   "execution_count": 2,
   "id": "6fa39553-8e23-49c7-a228-0a5a64fa7c7c",
   "metadata": {},
   "outputs": [
    {
     "data": {
      "text/plain": [
       "[(1, 4), (2, 5), (3, 6)]"
      ]
     },
     "execution_count": 2,
     "metadata": {},
     "output_type": "execute_result"
    }
   ],
   "source": [
    "#zip function in python\n",
    "L1 = [1,2,3]\n",
    "L2 = [4,5,6]\n",
    "\n",
    "list(zip(L1,L2))"
   ]
  },
  {
   "cell_type": "code",
   "execution_count": 10,
   "id": "dedbf073-cd53-4b91-9b72-cc6bf1635efd",
   "metadata": {},
   "outputs": [
    {
     "name": "stdout",
     "output_type": "stream",
     "text": [
      "[0, 2, 4, 6, 8, 10, 12, 14, 16, 18]\n",
      "10.60795521736145\n"
     ]
    }
   ],
   "source": [
    "# addition of two lists using list\n",
    "\n",
    "size = 1_000_000_00\n",
    "\n",
    "a = list(range(size))\n",
    "b = list(range(size))\n",
    "\n",
    "start = time.time()\n",
    "\n",
    "add = [x+y for x,y in zip(a,b)]\n",
    "\n",
    "end = time.time()\n",
    "print(add[0:10])\n",
    "\n",
    "print(end - start)"
   ]
  },
  {
   "cell_type": "code",
   "execution_count": 11,
   "id": "dd67c147-34e6-4417-93fb-b0b95d3358c0",
   "metadata": {},
   "outputs": [
    {
     "name": "stdout",
     "output_type": "stream",
     "text": [
      "[ 0  2  4  6  8 10 12 14 16 18]\n",
      "3.194577932357788\n"
     ]
    }
   ],
   "source": [
    "# using numpy array\n",
    "\n",
    "size = 1_000_000_00\n",
    "\n",
    "a = np.array(list(range(size)))\n",
    "b = np.array(list(range(size)))\n",
    "\n",
    "start = time.time()\n",
    "\n",
    "add = a + b\n",
    "\n",
    "end = time.time()\n",
    "print(add[0:10])\n",
    "\n",
    "print(end - start)"
   ]
  },
  {
   "cell_type": "code",
   "execution_count": 12,
   "id": "62e9bff1-6671-4ef0-a228-030ce8213809",
   "metadata": {},
   "outputs": [
    {
     "data": {
      "text/plain": [
       "array([1, 2, 3, 4, 5])"
      ]
     },
     "execution_count": 12,
     "metadata": {},
     "output_type": "execute_result"
    }
   ],
   "source": [
    "np.array([1,2,3,4,5])"
   ]
  },
  {
   "cell_type": "code",
   "execution_count": 17,
   "id": "ef762a33-bf2c-420b-995d-8f66b78413d5",
   "metadata": {},
   "outputs": [
    {
     "data": {
      "text/plain": [
       "array([[1, 2, 3],\n",
       "       [4, 5, 6]])"
      ]
     },
     "execution_count": 17,
     "metadata": {},
     "output_type": "execute_result"
    }
   ],
   "source": [
    "# 2d array\n",
    "arr = np.array([[1,2,3],[4,5,6]])\n",
    "arr"
   ]
  },
  {
   "cell_type": "code",
   "execution_count": 18,
   "id": "52f41d42-66fe-4798-b6f7-932951c4a0e8",
   "metadata": {},
   "outputs": [
    {
     "data": {
      "text/plain": [
       "numpy.ndarray"
      ]
     },
     "execution_count": 18,
     "metadata": {},
     "output_type": "execute_result"
    }
   ],
   "source": [
    "type(arr)"
   ]
  },
  {
   "cell_type": "code",
   "execution_count": 21,
   "id": "6e1b4cbc-b60b-4599-a23a-97d7b4fe4994",
   "metadata": {},
   "outputs": [
    {
     "data": {
      "text/plain": [
       "(2, 3)"
      ]
     },
     "execution_count": 21,
     "metadata": {},
     "output_type": "execute_result"
    }
   ],
   "source": [
    "arr.shape\n",
    "# (r,c) dimensions of the array"
   ]
  },
  {
   "cell_type": "code",
   "execution_count": 23,
   "id": "eedff70e-e9cc-488e-8fcf-dd2ad425ffdc",
   "metadata": {},
   "outputs": [
    {
     "name": "stdout",
     "output_type": "stream",
     "text": [
      "python list size: 8056000 bytes\n",
      "numpy array size: 8000 bytes\n"
     ]
    }
   ],
   "source": [
    "#memory optimization \n",
    "import sys\n",
    "\n",
    "list_data = list(range(1000))\n",
    "\n",
    "numpy_data = np.array(list_data)\n",
    "\n",
    "print(\"python list size:\", sys.getsizeof(list_data) * len(list_data), \"bytes\")\n",
    "\n",
    "print(\"numpy array size:\", numpy_data.nbytes, \"bytes\")"
   ]
  },
  {
   "cell_type": "code",
   "execution_count": 25,
   "id": "e8d4e8f3-752c-4d50-95d8-6bbca2c36862",
   "metadata": {},
   "outputs": [
    {
     "name": "stdout",
     "output_type": "stream",
     "text": [
      "0.001486063003540039\n",
      "[1, 4, 9, 16]\n",
      "0.00017523765563964844\n",
      "[ 1  4  9 16]\n"
     ]
    }
   ],
   "source": [
    "#vectorization in numpy\n",
    "list1 = [1,2,3,4]\n",
    "arr1 = np.array([1,2,3,4])\n",
    "\n",
    "start = time.time()\n",
    "#python list loop\n",
    "square_list = [x ** 2 for x in list1]\n",
    "end = time.time()\n",
    "print(end-start)\n",
    "print(square_list)\n",
    "\n",
    "start = time.time()\n",
    "#numpy\n",
    "numpy_square = arr1 ** 2\n",
    "end = time.time()\n",
    "print(end-start)\n",
    "print(numpy_square)"
   ]
  },
  {
   "cell_type": "code",
   "execution_count": null,
   "id": "c73e8dcb-6bbf-447f-8e2d-7e47a209eafb",
   "metadata": {},
   "outputs": [],
   "source": []
  }
 ],
 "metadata": {
  "kernelspec": {
   "display_name": "Python 3 (ipykernel)",
   "language": "python",
   "name": "python3"
  },
  "language_info": {
   "codemirror_mode": {
    "name": "ipython",
    "version": 3
   },
   "file_extension": ".py",
   "mimetype": "text/x-python",
   "name": "python",
   "nbconvert_exporter": "python",
   "pygments_lexer": "ipython3",
   "version": "3.10.9"
  }
 },
 "nbformat": 4,
 "nbformat_minor": 5
}
