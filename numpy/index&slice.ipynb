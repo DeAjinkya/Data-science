{
 "cells": [
  {
   "cell_type": "code",
   "execution_count": 1,
   "id": "32133e2b-0024-4119-a721-7877af603a26",
   "metadata": {},
   "outputs": [],
   "source": [
    "import numpy as np"
   ]
  },
  {
   "cell_type": "code",
   "execution_count": 2,
   "id": "65c61a8e-77ef-40fb-b9b5-63649df082da",
   "metadata": {},
   "outputs": [],
   "source": [
    "arr = np.array([[1,2,3],[4,5,6],[7,8,9],[10,11,12]])"
   ]
  },
  {
   "cell_type": "code",
   "execution_count": 3,
   "id": "5ec0bf74-ad4a-4cac-a5bf-b04101269c3f",
   "metadata": {},
   "outputs": [
    {
     "data": {
      "text/plain": [
       "array([[ 1,  2,  3],\n",
       "       [ 4,  5,  6],\n",
       "       [ 7,  8,  9],\n",
       "       [10, 11, 12]])"
      ]
     },
     "execution_count": 3,
     "metadata": {},
     "output_type": "execute_result"
    }
   ],
   "source": [
    "arr"
   ]
  },
  {
   "cell_type": "code",
   "execution_count": 14,
   "id": "9b4f9055-99ec-4240-8989-50ecd045140f",
   "metadata": {},
   "outputs": [
    {
     "data": {
      "text/plain": [
       "2"
      ]
     },
     "execution_count": 14,
     "metadata": {},
     "output_type": "execute_result"
    }
   ],
   "source": [
    "# indexing \n",
    "arr[0,1]"
   ]
  },
  {
   "cell_type": "code",
   "execution_count": 15,
   "id": "a4356021-10cf-4420-a3a0-9bb43a3ea1cc",
   "metadata": {},
   "outputs": [
    {
     "data": {
      "text/plain": [
       "10"
      ]
     },
     "execution_count": 15,
     "metadata": {},
     "output_type": "execute_result"
    }
   ],
   "source": [
    "arr[-1,0]"
   ]
  },
  {
   "cell_type": "code",
   "execution_count": 16,
   "id": "3602f03d-5db0-4d95-8886-df4178cf62ff",
   "metadata": {},
   "outputs": [
    {
     "data": {
      "text/plain": [
       "array([1, 2, 3, 4])"
      ]
     },
     "execution_count": 16,
     "metadata": {},
     "output_type": "execute_result"
    }
   ],
   "source": [
    "arr1 = np.array([1,2,3,4])\n",
    "arr1"
   ]
  },
  {
   "cell_type": "code",
   "execution_count": 17,
   "id": "0a61e407-cf50-4f7b-872e-22de0a478d55",
   "metadata": {},
   "outputs": [
    {
     "data": {
      "text/plain": [
       "1"
      ]
     },
     "execution_count": 17,
     "metadata": {},
     "output_type": "execute_result"
    }
   ],
   "source": [
    "arr1[0]"
   ]
  },
  {
   "cell_type": "code",
   "execution_count": 18,
   "id": "af822e0d-9fcb-48d6-b016-a1c5d0ffebd4",
   "metadata": {},
   "outputs": [
    {
     "data": {
      "text/plain": [
       "4"
      ]
     },
     "execution_count": 18,
     "metadata": {},
     "output_type": "execute_result"
    }
   ],
   "source": [
    "arr1[-1]"
   ]
  },
  {
   "cell_type": "code",
   "execution_count": 19,
   "id": "f4416bc8-64d5-409c-ae68-70c76557ab00",
   "metadata": {},
   "outputs": [
    {
     "data": {
      "text/plain": [
       "array([2, 3, 4])"
      ]
     },
     "execution_count": 19,
     "metadata": {},
     "output_type": "execute_result"
    }
   ],
   "source": [
    "#slicing\n",
    "arr1[1:4] # slice from index 1 to 3"
   ]
  },
  {
   "cell_type": "code",
   "execution_count": 20,
   "id": "62e476c2-9806-4dbe-a9f9-f2d0d7329dec",
   "metadata": {},
   "outputs": [
    {
     "data": {
      "text/plain": [
       "array([1, 2, 3])"
      ]
     },
     "execution_count": 20,
     "metadata": {},
     "output_type": "execute_result"
    }
   ],
   "source": [
    "arr1[:3] # first 3 element"
   ]
  },
  {
   "cell_type": "code",
   "execution_count": 23,
   "id": "4b0b38f3-9551-4734-a4e2-23d03dfd1ae5",
   "metadata": {},
   "outputs": [
    {
     "data": {
      "text/plain": [
       "array([1, 3])"
      ]
     },
     "execution_count": 23,
     "metadata": {},
     "output_type": "execute_result"
    }
   ],
   "source": [
    "arr1[::2] # every 2nd element"
   ]
  },
  {
   "cell_type": "code",
   "execution_count": 24,
   "id": "b2639118-1a7e-4d38-aeec-ef9a16f8b79e",
   "metadata": {},
   "outputs": [
    {
     "data": {
      "text/plain": [
       "array([1, 2, 3, 4, 5, 6, 7, 8])"
      ]
     },
     "execution_count": 24,
     "metadata": {},
     "output_type": "execute_result"
    }
   ],
   "source": [
    "a = np.array([1,2,3,4,5,6,7,8])\n",
    "a"
   ]
  },
  {
   "cell_type": "markdown",
   "id": "ee23545a-cc38-4901-b2f2-dfddc4ddea5d",
   "metadata": {},
   "source": [
    "Slicing returns a view, not a copy! Changes affect the original array.**\n",
    "\n",
    "This might seem counterintuitive since Python lists create copies when sliced. But in NumPy, slicing returns a view of the original array. Both the sliced array and the original array share the same data in memory, so changes in the slice affect the original array."
   ]
  },
  {
   "cell_type": "code",
   "execution_count": 33,
   "id": "2dcbf9ac-ff20-4b2e-8185-dc427f44bbb8",
   "metadata": {},
   "outputs": [
    {
     "data": {
      "text/plain": [
       "array([4444,    5,    6,    7,    8])"
      ]
     },
     "execution_count": 33,
     "metadata": {},
     "output_type": "execute_result"
    }
   ],
   "source": [
    "b = a[3:8] # b is not a copy but a view of a\n",
    "b"
   ]
  },
  {
   "cell_type": "code",
   "execution_count": 34,
   "id": "8e646be1-12dd-46ec-9433-7c664ca14a86",
   "metadata": {},
   "outputs": [],
   "source": [
    "b[0] = 4444"
   ]
  },
  {
   "cell_type": "code",
   "execution_count": 35,
   "id": "84170a60-5ef4-4782-b751-a0dc2a267526",
   "metadata": {},
   "outputs": [
    {
     "data": {
      "text/plain": [
       "array([4444,    5,    6,    7,    8])"
      ]
     },
     "execution_count": 35,
     "metadata": {},
     "output_type": "execute_result"
    }
   ],
   "source": [
    "b"
   ]
  },
  {
   "cell_type": "code",
   "execution_count": 36,
   "id": "5e43469f-fad9-46c2-be3a-88c9d295b177",
   "metadata": {},
   "outputs": [
    {
     "data": {
      "text/plain": [
       "array([   1,    2,    3, 4444,    5,    6,    7,    8])"
      ]
     },
     "execution_count": 36,
     "metadata": {},
     "output_type": "execute_result"
    }
   ],
   "source": [
    "a"
   ]
  },
  {
   "cell_type": "code",
   "execution_count": 37,
   "id": "9a76e3f0-7523-4505-bd19-5c03066f6858",
   "metadata": {},
   "outputs": [
    {
     "data": {
      "text/plain": [
       "array([4444,    5,    6,    7,    8])"
      ]
     },
     "execution_count": 37,
     "metadata": {},
     "output_type": "execute_result"
    }
   ],
   "source": [
    "# to copy the numpy array we using .copy() function\n",
    "c = a[3:8].copy()\n",
    "c"
   ]
  },
  {
   "cell_type": "code",
   "execution_count": 38,
   "id": "c4cec437-3e5e-4c80-9d5b-ce9bebd49201",
   "metadata": {},
   "outputs": [],
   "source": [
    "c[0] = 12"
   ]
  },
  {
   "cell_type": "code",
   "execution_count": 39,
   "id": "7c14cf2d-b188-483d-a348-08fd630d2fc5",
   "metadata": {},
   "outputs": [
    {
     "data": {
      "text/plain": [
       "array([12,  5,  6,  7,  8])"
      ]
     },
     "execution_count": 39,
     "metadata": {},
     "output_type": "execute_result"
    }
   ],
   "source": [
    "c"
   ]
  },
  {
   "cell_type": "code",
   "execution_count": 40,
   "id": "e4a7ad61-8c70-4a85-9b08-86994e64bed8",
   "metadata": {},
   "outputs": [
    {
     "data": {
      "text/plain": [
       "array([   1,    2,    3, 4444,    5,    6,    7,    8])"
      ]
     },
     "execution_count": 40,
     "metadata": {},
     "output_type": "execute_result"
    }
   ],
   "source": [
    "a"
   ]
  },
  {
   "cell_type": "code",
   "execution_count": 52,
   "id": "13aa548d-09b2-4ad5-8d12-7f78d4fba5f1",
   "metadata": {},
   "outputs": [
    {
     "name": "stdout",
     "output_type": "stream",
     "text": [
      "[ 1 34  5]\n"
     ]
    },
    {
     "data": {
      "text/plain": [
       "array([34,  5])"
      ]
     },
     "execution_count": 52,
     "metadata": {},
     "output_type": "execute_result"
    }
   ],
   "source": [
    "# fancy indexing (select multiple elements)\n",
    "array = np.array([1,2,34,4,5])\n",
    "idx = [0,2,4]\n",
    "print(array[idx])\n",
    "#or \n",
    "array[[2,4]]"
   ]
  },
  {
   "cell_type": "code",
   "execution_count": 54,
   "id": "cd014f94-1b4a-40c4-94af-1332bfbbde76",
   "metadata": {},
   "outputs": [
    {
     "name": "stdout",
     "output_type": "stream",
     "text": [
      "[34]\n"
     ]
    },
    {
     "data": {
      "text/plain": [
       "array([34,  4,  5])"
      ]
     },
     "execution_count": 54,
     "metadata": {},
     "output_type": "execute_result"
    }
   ],
   "source": [
    "# boolean masking (filter data)\n",
    "mask = array > 25 # condition : value greater than 25\n",
    "print(array[mask])\n",
    "#or\n",
    "array[array>3]"
   ]
  },
  {
   "cell_type": "code",
   "execution_count": null,
   "id": "8c3bacf7-5d13-492d-ab6b-5eaa7fbf8565",
   "metadata": {},
   "outputs": [],
   "source": []
  }
 ],
 "metadata": {
  "kernelspec": {
   "display_name": "Python 3 (ipykernel)",
   "language": "python",
   "name": "python3"
  },
  "language_info": {
   "codemirror_mode": {
    "name": "ipython",
    "version": 3
   },
   "file_extension": ".py",
   "mimetype": "text/x-python",
   "name": "python",
   "nbconvert_exporter": "python",
   "pygments_lexer": "ipython3",
   "version": "3.10.9"
  }
 },
 "nbformat": 4,
 "nbformat_minor": 5
}
