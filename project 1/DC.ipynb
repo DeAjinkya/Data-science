{
 "cells": [
  {
   "cell_type": "code",
   "execution_count": 6,
   "id": "80eb7ae7-6fb9-4af2-a66f-19325fde93d2",
   "metadata": {},
   "outputs": [
    {
     "name": "stdout",
     "output_type": "stream",
     "text": [
      "data has been cleaned successfully\n"
     ]
    }
   ],
   "source": [
    "import json\n",
    "\n",
    "def clean_data(data):\n",
    "    #remove users with missing values\n",
    "    data['users'] = [user for user in data[\"users\"] if user[\"name\"].strip()]\n",
    "    \n",
    "    #remove duplicate friends\n",
    "    for user in data[\"users\"]:\n",
    "        user['friends'] = list(set(user['friends']))\n",
    "        \n",
    "    #remove inactive users\n",
    "    data['users'] = [user for user in data['users'] if user['friends'] or user['liked_pages']]\n",
    "    \n",
    "    #remove duplicate pages\n",
    "    unique_pages = {}\n",
    "    for page in data['pages']:\n",
    "        unique_pages[page['id']] = page\n",
    "    data['pages'] = list(unique_pages.values())\n",
    "    \n",
    "    return data\n",
    "\n",
    "#load the data\n",
    "data = json.load(open(\"data2.json\"))\n",
    "data = clean_data(data)\n",
    "json.dump(data, open(\"cleand_data2.json\",\"w\"), indent=4)\n",
    "print(\"data has been cleaned successfully\")"
   ]
  },
  {
   "cell_type": "code",
   "execution_count": null,
   "id": "446b4171-4d0d-448b-b9ac-40f9615e4bd7",
   "metadata": {},
   "outputs": [],
   "source": []
  }
 ],
 "metadata": {
  "kernelspec": {
   "display_name": "Python 3 (ipykernel)",
   "language": "python",
   "name": "python3"
  },
  "language_info": {
   "codemirror_mode": {
    "name": "ipython",
    "version": 3
   },
   "file_extension": ".py",
   "mimetype": "text/x-python",
   "name": "python",
   "nbconvert_exporter": "python",
   "pygments_lexer": "ipython3",
   "version": "3.10.9"
  }
 },
 "nbformat": 4,
 "nbformat_minor": 5
}
