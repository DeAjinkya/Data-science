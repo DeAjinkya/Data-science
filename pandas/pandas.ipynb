{
 "cells": [
  {
   "cell_type": "markdown",
   "id": "d6b55629-e3cc-48cc-a658-b18afa87f089",
   "metadata": {},
   "source": [
    "What is Pandas?\n",
    "\n",
    "Pandas is a powerful, open-source Python library used for data manipulation, cleaning, and analysis. It provides two main data structures:\n",
    "\n",
    "Series: A one-dimensional labeled array\n",
    "\n",
    "DataFrame: A two-dimensional labeled table (like an Excel sheet or SQL table)\n",
    "\n",
    "Pandas makes working with structured data fast, expressive, and flexible.\n",
    "\n",
    "If you're working with tables, spreadsheets, or CSVs in Python—Pandas is your best friend."
   ]
  },
  {
   "cell_type": "code",
   "execution_count": 1,
   "id": "beb917a8-67bd-4c1c-bd8e-6d6c086c4049",
   "metadata": {},
   "outputs": [],
   "source": [
    "import pandas as pd"
   ]
  },
  {
   "cell_type": "markdown",
   "id": "cbb3378d-7429-4cfb-99df-1a823b39a17a",
   "metadata": {},
   "source": [
    "Pandas is built on two main data structures:\n",
    "\n",
    "Series → One-dimensional (like a single column in Excel)\n",
    "\n",
    "DataFrame → Two-dimensional (like a full spreadsheet or SQL table)"
   ]
  },
  {
   "cell_type": "code",
   "execution_count": 2,
   "id": "5d2ae8e1-1e8d-4e61-b4ed-e721d82b64d2",
   "metadata": {},
   "outputs": [],
   "source": [
    "s = pd.Series([31,42,34,55,56])"
   ]
  },
  {
   "cell_type": "code",
   "execution_count": 3,
   "id": "c4ae0822-003b-4c0e-9305-b3202530e488",
   "metadata": {},
   "outputs": [
    {
     "data": {
      "text/plain": [
       "pandas.core.series.Series"
      ]
     },
     "execution_count": 3,
     "metadata": {},
     "output_type": "execute_result"
    }
   ],
   "source": [
    "type(s)"
   ]
  },
  {
   "cell_type": "code",
   "execution_count": 4,
   "id": "aa2bb5ee-025c-4d35-b2b8-462dbba6931c",
   "metadata": {},
   "outputs": [
    {
     "name": "stdout",
     "output_type": "stream",
     "text": [
      "0    31\n",
      "1    42\n",
      "2    34\n",
      "3    55\n",
      "4    56\n",
      "dtype: int64\n"
     ]
    }
   ],
   "source": [
    "print(s)"
   ]
  },
  {
   "cell_type": "code",
   "execution_count": 7,
   "id": "767bc01b-b161-439c-80e4-6b197bdb9690",
   "metadata": {},
   "outputs": [],
   "source": [
    "#indexing\n",
    "s1 = pd.Series([81,42,34,55,56], index=[\"Ajinkya\",\"Harry\",\"Aakash\",\"Raj\",\"Kirti\"])"
   ]
  },
  {
   "cell_type": "code",
   "execution_count": 8,
   "id": "bf715c2e-f981-4744-8cd8-a1ec86caadb2",
   "metadata": {},
   "outputs": [
    {
     "data": {
      "text/plain": [
       "Ajinkya    81\n",
       "Harry      42\n",
       "Aakash     34\n",
       "Raj        55\n",
       "Kirti      56\n",
       "dtype: int64"
      ]
     },
     "execution_count": 8,
     "metadata": {},
     "output_type": "execute_result"
    }
   ],
   "source": [
    "s1"
   ]
  },
  {
   "cell_type": "code",
   "execution_count": 9,
   "id": "8172f3ea-3c4e-42c4-ba97-0874a5c01a9e",
   "metadata": {},
   "outputs": [
    {
     "data": {
      "text/plain": [
       "81"
      ]
     },
     "execution_count": 9,
     "metadata": {},
     "output_type": "execute_result"
    }
   ],
   "source": [
    "s1[\"Ajinkya\"]"
   ]
  },
  {
   "cell_type": "code",
   "execution_count": 10,
   "id": "c43e9dcd-3416-42cf-a7b3-fcda32968518",
   "metadata": {},
   "outputs": [
    {
     "data": {
      "text/plain": [
       "56"
      ]
     },
     "execution_count": 10,
     "metadata": {},
     "output_type": "execute_result"
    }
   ],
   "source": [
    "s1[\"Kirti\"]"
   ]
  },
  {
   "cell_type": "code",
   "execution_count": 11,
   "id": "630d2b75-47e9-47d6-ba17-c3fd729f5d19",
   "metadata": {},
   "outputs": [
    {
     "name": "stdout",
     "output_type": "stream",
     "text": [
      "      name  age       city\n",
      "0    Alice   25      delhi\n",
      "1      Bob   30     mumbai\n",
      "2  charlie   35  bangalore\n"
     ]
    }
   ],
   "source": [
    "#dataframe\n",
    "data = {\"name\":[\"Alice\",\"Bob\",\"charlie\"],\n",
    "        \"age\":[25,30,35],\n",
    "        \"city\":[\"delhi\",\"mumbai\",\"bangalore\"]\n",
    "       }\n",
    "\n",
    "df = pd.DataFrame(data)\n",
    "print(df)"
   ]
  },
  {
   "cell_type": "code",
   "execution_count": 12,
   "id": "5b178cff-4934-4c11-8fd2-e4d7c3ea9b2c",
   "metadata": {},
   "outputs": [
    {
     "data": {
      "text/plain": [
       "RangeIndex(start=0, stop=3, step=1)"
      ]
     },
     "execution_count": 12,
     "metadata": {},
     "output_type": "execute_result"
    }
   ],
   "source": [
    "df.index"
   ]
  },
  {
   "cell_type": "code",
   "execution_count": 13,
   "id": "a991cf40-fb34-4e35-9ca5-65ef6826e955",
   "metadata": {},
   "outputs": [
    {
     "data": {
      "text/plain": [
       "Index(['name', 'age', 'city'], dtype='object')"
      ]
     },
     "execution_count": 13,
     "metadata": {},
     "output_type": "execute_result"
    }
   ],
   "source": [
    "df.columns"
   ]
  },
  {
   "cell_type": "code",
   "execution_count": null,
   "id": "2685a5d8-4bb3-4d0c-a20c-cf0f217d0c5b",
   "metadata": {},
   "outputs": [],
   "source": []
  }
 ],
 "metadata": {
  "kernelspec": {
   "display_name": "Python 3 (ipykernel)",
   "language": "python",
   "name": "python3"
  },
  "language_info": {
   "codemirror_mode": {
    "name": "ipython",
    "version": 3
   },
   "file_extension": ".py",
   "mimetype": "text/x-python",
   "name": "python",
   "nbconvert_exporter": "python",
   "pygments_lexer": "ipython3",
   "version": "3.10.9"
  }
 },
 "nbformat": 4,
 "nbformat_minor": 5
}
