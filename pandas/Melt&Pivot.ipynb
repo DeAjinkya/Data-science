{
 "cells": [
  {
   "cell_type": "markdown",
   "id": "b26bf245-703f-4bc5-92ab-900752310656",
   "metadata": {},
   "source": [
    "#Melt and Pivot"
   ]
  },
  {
   "cell_type": "code",
   "execution_count": 1,
   "id": "e3d3088c-824d-4ea1-b679-c7680714e723",
   "metadata": {},
   "outputs": [],
   "source": [
    "import pandas as pd"
   ]
  },
  {
   "cell_type": "code",
   "execution_count": 2,
   "id": "a2ed8d9c-87bf-47c2-ac53-f91e33697fe3",
   "metadata": {},
   "outputs": [
    {
     "name": "stdout",
     "output_type": "stream",
     "text": [
      "      Name  Math  Science  English\n",
      "0    Alice    85       90       88\n",
      "1      Bob    78       82       85\n",
      "2  Charlie    92       89       94\n"
     ]
    }
   ],
   "source": [
    "#simple dataframe\n",
    "\n",
    "data = {'Name':['Alice','Bob','Charlie'],\n",
    "       'Math':[85,78,92],\n",
    "       'Science':[90,82,89],\n",
    "       'English':[88,85,94]}\n",
    "\n",
    "df = pd.DataFrame(data)\n",
    "\n",
    "#display dataframe\n",
    "print(df)"
   ]
  },
  {
   "cell_type": "markdown",
   "id": "481bf3bc-5de8-465d-9f2f-66ff7e2905b3",
   "metadata": {},
   "source": [
    "#melt() — Wide to Long\n",
    "\n",
    "The melt() method in Pandas is used to unpivot a DataFrame from wide format to long format. In other words, it takes columns that represent different variables and combines them into key-value pairs (i.e., long-form data).\n",
    "\n",
    "When to Use melt():\n",
    "    \n",
    "When you have a DataFrame where each row is an observation, and each column represents a different variable or measurement, and you want to reshape the data into a longer format for easier analysis or visualization."
   ]
  },
  {
   "cell_type": "markdown",
   "id": "e367bde6-4429-4a6e-ba85-2b9061f86591",
   "metadata": {},
   "source": [
    "#Parameters:\n",
    "\n",
    "id_vars: The columns that you want to keep fixed (these columns will remain as identifiers).\n",
    "\n",
    "value_vars: The columns you want to unpivot (the ones you want to \"melt\" into a single column).\n",
    "\n",
    "var_name: The name to use for the new column that will contain the names of the melted columns (default is 'variable').\n",
    "\n",
    "value_name: The name to use for the new column that will contain the values from the melted columns (default is 'value').\n",
    "\n",
    "col_level: Used for multi-level column DataFrames."
   ]
  },
  {
   "cell_type": "code",
   "execution_count": 11,
   "id": "790dd7bc-5b99-4c8b-a5a3-504e9184a8c6",
   "metadata": {},
   "outputs": [
    {
     "data": {
      "text/html": [
       "<div>\n",
       "<style scoped>\n",
       "    .dataframe tbody tr th:only-of-type {\n",
       "        vertical-align: middle;\n",
       "    }\n",
       "\n",
       "    .dataframe tbody tr th {\n",
       "        vertical-align: top;\n",
       "    }\n",
       "\n",
       "    .dataframe thead th {\n",
       "        text-align: right;\n",
       "    }\n",
       "</style>\n",
       "<table border=\"1\" class=\"dataframe\">\n",
       "  <thead>\n",
       "    <tr style=\"text-align: right;\">\n",
       "      <th></th>\n",
       "      <th>Name</th>\n",
       "      <th>Subject</th>\n",
       "      <th>Score</th>\n",
       "    </tr>\n",
       "  </thead>\n",
       "  <tbody>\n",
       "    <tr>\n",
       "      <th>0</th>\n",
       "      <td>Alice</td>\n",
       "      <td>Math</td>\n",
       "      <td>85</td>\n",
       "    </tr>\n",
       "    <tr>\n",
       "      <th>1</th>\n",
       "      <td>Bob</td>\n",
       "      <td>Math</td>\n",
       "      <td>78</td>\n",
       "    </tr>\n",
       "    <tr>\n",
       "      <th>2</th>\n",
       "      <td>Charlie</td>\n",
       "      <td>Math</td>\n",
       "      <td>92</td>\n",
       "    </tr>\n",
       "    <tr>\n",
       "      <th>3</th>\n",
       "      <td>Alice</td>\n",
       "      <td>Science</td>\n",
       "      <td>90</td>\n",
       "    </tr>\n",
       "    <tr>\n",
       "      <th>4</th>\n",
       "      <td>Bob</td>\n",
       "      <td>Science</td>\n",
       "      <td>82</td>\n",
       "    </tr>\n",
       "    <tr>\n",
       "      <th>5</th>\n",
       "      <td>Charlie</td>\n",
       "      <td>Science</td>\n",
       "      <td>89</td>\n",
       "    </tr>\n",
       "    <tr>\n",
       "      <th>6</th>\n",
       "      <td>Alice</td>\n",
       "      <td>English</td>\n",
       "      <td>88</td>\n",
       "    </tr>\n",
       "    <tr>\n",
       "      <th>7</th>\n",
       "      <td>Bob</td>\n",
       "      <td>English</td>\n",
       "      <td>85</td>\n",
       "    </tr>\n",
       "    <tr>\n",
       "      <th>8</th>\n",
       "      <td>Charlie</td>\n",
       "      <td>English</td>\n",
       "      <td>94</td>\n",
       "    </tr>\n",
       "  </tbody>\n",
       "</table>\n",
       "</div>"
      ],
      "text/plain": [
       "      Name  Subject  Score\n",
       "0    Alice     Math     85\n",
       "1      Bob     Math     78\n",
       "2  Charlie     Math     92\n",
       "3    Alice  Science     90\n",
       "4      Bob  Science     82\n",
       "5  Charlie  Science     89\n",
       "6    Alice  English     88\n",
       "7      Bob  English     85\n",
       "8  Charlie  English     94"
      ]
     },
     "execution_count": 11,
     "metadata": {},
     "output_type": "execute_result"
    }
   ],
   "source": [
    "df2 = df.melt(id_vars=[\"Name\"], value_vars=[\"Math\",\"Science\",\"English\"], var_name=\"Subject\", \n",
    "        value_name=\"Score\").copy()\n",
    "df2"
   ]
  },
  {
   "cell_type": "markdown",
   "id": "52ae086f-8e71-4c6c-82ef-a1266f6858c0",
   "metadata": {},
   "source": [
    "#pivot() — Long to Wide\n",
    "\n",
    "The pivot() function in Pandas is used to reshape data, specifically to turn long-format data into wide-format data. This is the reverse operation of melt().\n",
    "\n",
    "How it works:\n",
    "\n",
    "pivot() takes a long-format DataFrame and turns it into a wide-format DataFrame by specifying which columns will become the new columns, the rows, and the values."
   ]
  },
  {
   "cell_type": "code",
   "execution_count": 13,
   "id": "21c2695c-6aed-427d-add7-54d5d2e42f55",
   "metadata": {},
   "outputs": [
    {
     "data": {
      "text/html": [
       "<div>\n",
       "<style scoped>\n",
       "    .dataframe tbody tr th:only-of-type {\n",
       "        vertical-align: middle;\n",
       "    }\n",
       "\n",
       "    .dataframe tbody tr th {\n",
       "        vertical-align: top;\n",
       "    }\n",
       "\n",
       "    .dataframe thead th {\n",
       "        text-align: right;\n",
       "    }\n",
       "</style>\n",
       "<table border=\"1\" class=\"dataframe\">\n",
       "  <thead>\n",
       "    <tr style=\"text-align: right;\">\n",
       "      <th>Subject</th>\n",
       "      <th>English</th>\n",
       "      <th>Math</th>\n",
       "      <th>Science</th>\n",
       "    </tr>\n",
       "    <tr>\n",
       "      <th>Name</th>\n",
       "      <th></th>\n",
       "      <th></th>\n",
       "      <th></th>\n",
       "    </tr>\n",
       "  </thead>\n",
       "  <tbody>\n",
       "    <tr>\n",
       "      <th>Alice</th>\n",
       "      <td>88</td>\n",
       "      <td>85</td>\n",
       "      <td>90</td>\n",
       "    </tr>\n",
       "    <tr>\n",
       "      <th>Bob</th>\n",
       "      <td>85</td>\n",
       "      <td>78</td>\n",
       "      <td>82</td>\n",
       "    </tr>\n",
       "    <tr>\n",
       "      <th>Charlie</th>\n",
       "      <td>94</td>\n",
       "      <td>92</td>\n",
       "      <td>89</td>\n",
       "    </tr>\n",
       "  </tbody>\n",
       "</table>\n",
       "</div>"
      ],
      "text/plain": [
       "Subject  English  Math  Science\n",
       "Name                           \n",
       "Alice         88    85       90\n",
       "Bob           85    78       82\n",
       "Charlie       94    92       89"
      ]
     },
     "execution_count": 13,
     "metadata": {},
     "output_type": "execute_result"
    }
   ],
   "source": [
    "df2.pivot(index=\"Name\", columns=\"Subject\", values=\"Score\")"
   ]
  },
  {
   "cell_type": "markdown",
   "id": "fb86b488-bbfa-4499-943d-6d98901d0438",
   "metadata": {},
   "source": [
    "#Parameters:\n",
    "\n",
    "index: The column whose unique values will become the rows of the new DataFrame.\n",
    "\n",
    "columns: The column whose unique values will become the columns of the new DataFrame.\n",
    "\n",
    "values: The column whose values will fill the new DataFrame. These will become the actual data (values in the table)."
   ]
  },
  {
   "cell_type": "markdown",
   "id": "7cc193b7-e24b-4b2f-8eb7-bf7dde6d109f",
   "metadata": {},
   "source": [
    "#pivot table\n",
    "\n",
    "Important Notes:\n",
    "\n",
    "Duplicate Entries: If you have multiple rows with the same combination of index and columns, pivot() will raise an error. In such cases, you should use pivot_table() (which can handle duplicate entries by aggregating them)."
   ]
  },
  {
   "cell_type": "markdown",
   "id": "72d26f84-d1a3-45a1-80f3-5f4a534f4ed8",
   "metadata": {},
   "source": [
    "#pivot table example:-"
   ]
  },
  {
   "cell_type": "code",
   "execution_count": 21,
   "id": "0ba96adb-55e9-4e8b-aa75-ded10b50d00b",
   "metadata": {},
   "outputs": [
    {
     "name": "stdout",
     "output_type": "stream",
     "text": [
      "      Name  Math  Science\n",
      "0    Alice    85       90\n",
      "1      Bob    78       82\n",
      "2  Charlie    92       89\n",
      "3    Alice    99       44\n"
     ]
    }
   ],
   "source": [
    "#simple dataframe\n",
    "\n",
    "data1 = {'Name':['Alice','Bob','Charlie', 'Alice'],\n",
    "       'Math':[85,78,92,99],\n",
    "       'Science':[90,82,89,44]}\n",
    "\n",
    "df3 = pd.DataFrame(data1)\n",
    "\n",
    "#display dataframe\n",
    "print(df3)"
   ]
  },
  {
   "cell_type": "code",
   "execution_count": 22,
   "id": "47862eb5-6041-4fe3-bd08-8567e75b0e58",
   "metadata": {},
   "outputs": [],
   "source": [
    "df4 = df3.melt(id_vars=[\"Name\"], value_vars=[\"Math\",\"Science\"], \n",
    "               var_name=\"Subject\", value_name=\"Score\").copy()"
   ]
  },
  {
   "cell_type": "code",
   "execution_count": 23,
   "id": "6fd58f5c-46aa-45f6-bade-caf54e6aaf03",
   "metadata": {},
   "outputs": [
    {
     "data": {
      "text/html": [
       "<div>\n",
       "<style scoped>\n",
       "    .dataframe tbody tr th:only-of-type {\n",
       "        vertical-align: middle;\n",
       "    }\n",
       "\n",
       "    .dataframe tbody tr th {\n",
       "        vertical-align: top;\n",
       "    }\n",
       "\n",
       "    .dataframe thead th {\n",
       "        text-align: right;\n",
       "    }\n",
       "</style>\n",
       "<table border=\"1\" class=\"dataframe\">\n",
       "  <thead>\n",
       "    <tr style=\"text-align: right;\">\n",
       "      <th></th>\n",
       "      <th>Name</th>\n",
       "      <th>Subject</th>\n",
       "      <th>Score</th>\n",
       "    </tr>\n",
       "  </thead>\n",
       "  <tbody>\n",
       "    <tr>\n",
       "      <th>0</th>\n",
       "      <td>Alice</td>\n",
       "      <td>Math</td>\n",
       "      <td>85</td>\n",
       "    </tr>\n",
       "    <tr>\n",
       "      <th>1</th>\n",
       "      <td>Bob</td>\n",
       "      <td>Math</td>\n",
       "      <td>78</td>\n",
       "    </tr>\n",
       "    <tr>\n",
       "      <th>2</th>\n",
       "      <td>Charlie</td>\n",
       "      <td>Math</td>\n",
       "      <td>92</td>\n",
       "    </tr>\n",
       "    <tr>\n",
       "      <th>3</th>\n",
       "      <td>Alice</td>\n",
       "      <td>Math</td>\n",
       "      <td>99</td>\n",
       "    </tr>\n",
       "    <tr>\n",
       "      <th>4</th>\n",
       "      <td>Alice</td>\n",
       "      <td>Science</td>\n",
       "      <td>90</td>\n",
       "    </tr>\n",
       "    <tr>\n",
       "      <th>5</th>\n",
       "      <td>Bob</td>\n",
       "      <td>Science</td>\n",
       "      <td>82</td>\n",
       "    </tr>\n",
       "    <tr>\n",
       "      <th>6</th>\n",
       "      <td>Charlie</td>\n",
       "      <td>Science</td>\n",
       "      <td>89</td>\n",
       "    </tr>\n",
       "    <tr>\n",
       "      <th>7</th>\n",
       "      <td>Alice</td>\n",
       "      <td>Science</td>\n",
       "      <td>44</td>\n",
       "    </tr>\n",
       "  </tbody>\n",
       "</table>\n",
       "</div>"
      ],
      "text/plain": [
       "      Name  Subject  Score\n",
       "0    Alice     Math     85\n",
       "1      Bob     Math     78\n",
       "2  Charlie     Math     92\n",
       "3    Alice     Math     99\n",
       "4    Alice  Science     90\n",
       "5      Bob  Science     82\n",
       "6  Charlie  Science     89\n",
       "7    Alice  Science     44"
      ]
     },
     "execution_count": 23,
     "metadata": {},
     "output_type": "execute_result"
    }
   ],
   "source": [
    "df4"
   ]
  },
  {
   "cell_type": "code",
   "execution_count": 24,
   "id": "cfa1ad6a-717b-49e4-b98a-ca04b8248a0f",
   "metadata": {},
   "outputs": [
    {
     "data": {
      "text/html": [
       "<div>\n",
       "<style scoped>\n",
       "    .dataframe tbody tr th:only-of-type {\n",
       "        vertical-align: middle;\n",
       "    }\n",
       "\n",
       "    .dataframe tbody tr th {\n",
       "        vertical-align: top;\n",
       "    }\n",
       "\n",
       "    .dataframe thead th {\n",
       "        text-align: right;\n",
       "    }\n",
       "</style>\n",
       "<table border=\"1\" class=\"dataframe\">\n",
       "  <thead>\n",
       "    <tr style=\"text-align: right;\">\n",
       "      <th>Subject</th>\n",
       "      <th>Math</th>\n",
       "      <th>Science</th>\n",
       "    </tr>\n",
       "    <tr>\n",
       "      <th>Name</th>\n",
       "      <th></th>\n",
       "      <th></th>\n",
       "    </tr>\n",
       "  </thead>\n",
       "  <tbody>\n",
       "    <tr>\n",
       "      <th>Alice</th>\n",
       "      <td>92</td>\n",
       "      <td>67</td>\n",
       "    </tr>\n",
       "    <tr>\n",
       "      <th>Bob</th>\n",
       "      <td>78</td>\n",
       "      <td>82</td>\n",
       "    </tr>\n",
       "    <tr>\n",
       "      <th>Charlie</th>\n",
       "      <td>92</td>\n",
       "      <td>89</td>\n",
       "    </tr>\n",
       "  </tbody>\n",
       "</table>\n",
       "</div>"
      ],
      "text/plain": [
       "Subject  Math  Science\n",
       "Name                  \n",
       "Alice      92       67\n",
       "Bob        78       82\n",
       "Charlie    92       89"
      ]
     },
     "execution_count": 24,
     "metadata": {},
     "output_type": "execute_result"
    }
   ],
   "source": [
    "df4.pivot_table(index=\"Name\", columns=\"Subject\", values=\"Score\", aggfunc=\"mean\")"
   ]
  },
  {
   "cell_type": "code",
   "execution_count": null,
   "id": "a35f3fe1-5966-4a59-9875-96c2a84f9413",
   "metadata": {},
   "outputs": [],
   "source": []
  }
 ],
 "metadata": {
  "kernelspec": {
   "display_name": "Python 3 (ipykernel)",
   "language": "python",
   "name": "python3"
  },
  "language_info": {
   "codemirror_mode": {
    "name": "ipython",
    "version": 3
   },
   "file_extension": ".py",
   "mimetype": "text/x-python",
   "name": "python",
   "nbconvert_exporter": "python",
   "pygments_lexer": "ipython3",
   "version": "3.10.9"
  }
 },
 "nbformat": 4,
 "nbformat_minor": 5
}
